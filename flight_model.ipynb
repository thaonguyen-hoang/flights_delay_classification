{
 "cells": [
  {
   "cell_type": "code",
   "execution_count": 79,
   "metadata": {
    "application/vnd.databricks.v1+cell": {
     "cellMetadata": {
      "byteLimit": 2048000,
      "rowLimit": 10000
     },
     "inputWidgets": {},
     "nuid": "b91402b2-3d7f-4b3f-9f07-e6c1ba737d2b",
     "showTitle": false,
     "title": ""
    }
   },
   "outputs": [],
   "source": [
    "from pyspark.sql import SparkSession\n",
    "from pyspark.sql.functions import explode\n",
    "from pyspark.sql.functions import split\n",
    "from pyspark.sql import functions as F\n",
    "from pyspark.sql.functions import isnan, when, count, col\n",
    "from pyspark.sql.functions import udf\n",
    "from pyspark.sql.types import *\n",
    "from pyspark.ml.feature import VectorAssembler\n",
    "from pyspark.ml.feature import StringIndexer\n",
    "from pyspark.ml.feature import OneHotEncoder\n",
    "from pyspark.ml.classification import DecisionTreeClassifier\n",
    "from pyspark.ml.classification import GBTClassifier\n",
    "from pyspark.ml.linalg import Vectors\n",
    "from pyspark.ml.feature import VectorAssembler\n",
    "from pyspark.ml import Pipeline\n",
    "from pyspark.sql.functions import col\n",
    "from pyspark.ml.evaluation import MulticlassClassificationEvaluator\n",
    "from sklearn.metrics import confusion_matrix"
   ]
  },
  {
   "cell_type": "markdown",
   "metadata": {},
   "source": [
    "### Load data"
   ]
  },
  {
   "cell_type": "code",
   "execution_count": 3,
   "metadata": {
    "application/vnd.databricks.v1+cell": {
     "cellMetadata": {
      "byteLimit": 2048000,
      "rowLimit": 10000
     },
     "inputWidgets": {},
     "nuid": "fb2dd5f0-4d7e-4712-8ddf-bd50d6b6e4c9",
     "showTitle": false,
     "title": ""
    }
   },
   "outputs": [],
   "source": [
    "# create spark session\n",
    "spark = SparkSession.builder \\\n",
    "    .appName(\"Model Training\") \\\n",
    "    .getOrCreate() "
   ]
  },
  {
   "cell_type": "code",
   "execution_count": 28,
   "metadata": {
    "application/vnd.databricks.v1+cell": {
     "cellMetadata": {
      "byteLimit": 2048000,
      "rowLimit": 10000
     },
     "inputWidgets": {},
     "nuid": "a61dae9c-fbe5-4426-b72d-13319c4c8248",
     "showTitle": false,
     "title": ""
    }
   },
   "outputs": [],
   "source": [
    "flight_schema = StructType([    \n",
    "    StructField('YEAR', IntegerType(), False),\n",
    "    StructField('MONTH', IntegerType(), False),\n",
    "    StructField('DAY', IntegerType(), False),\n",
    "    StructField('DAY_OF_WEEK', IntegerType(), False),\n",
    "    StructField('AIRLINE', StringType(), False),\n",
    "    StructField('FLIGHT_NUMBER', IntegerType(), False),\n",
    "    StructField('TAIL_NUMBER', StringType(), False),\n",
    "    StructField('ORIGIN_AIRPORT', StringType(), False),\n",
    "    StructField('DESTINATION_AIRPORT', StringType(), False),\n",
    "    StructField('SCHEDULED_DEPARTURE', IntegerType(), False),\n",
    "    StructField('DEPARTURE_TIME', IntegerType(), False),\n",
    "    StructField('DEPARTURE_DELAY', IntegerType(), False),\n",
    "    StructField('TAXI_OUT', IntegerType(), False),\n",
    "    StructField('WHEELS_OFF', IntegerType(), False),\n",
    "    StructField('SCHEDULED_TIME', IntegerType(), False),\n",
    "    StructField('ELAPSED_TIME', IntegerType(), False),\n",
    "    StructField('AIR_TIME', IntegerType(), False),\n",
    "    StructField('DISTANCE', IntegerType(), False),\n",
    "    StructField('WHEELS_ON', IntegerType(), False),\n",
    "    StructField('TAXI_IN', IntegerType(), False),\n",
    "    StructField('SCHEDULED_ARRIVAL', IntegerType(), False),\n",
    "    StructField('ARRIVAL_TIME', IntegerType(), False),\n",
    "    StructField('ARRIVAL_DELAY', IntegerType(), False),\n",
    "    StructField('DIVERTED', IntegerType(), False),\n",
    "    StructField('CANCELLED', IntegerType(), False),\n",
    "    StructField('CANCELLATION_REASON', StringType(), False),\n",
    "    StructField('AIR_SYSTEM_DELAY', IntegerType(), False),\n",
    "    StructField('SECURITY_DELAY', IntegerType(), False),\n",
    "    StructField('AIRLINE_DELAY', IntegerType(), False),\n",
    "    StructField('LATE_AIRCRAFT_DELAY', IntegerType(), False),\n",
    "    StructField('WEATHER_DELAY', IntegerType(), False)\n",
    "])"
   ]
  },
  {
   "cell_type": "code",
   "execution_count": 29,
   "metadata": {
    "application/vnd.databricks.v1+cell": {
     "cellMetadata": {
      "byteLimit": 2048000,
      "rowLimit": 10000
     },
     "inputWidgets": {},
     "nuid": "0311da45-1044-4757-aca0-91e85fd4c441",
     "showTitle": false,
     "title": ""
    }
   },
   "outputs": [],
   "source": [
    "path = 'flights_csv/train'\n",
    "\n",
    "flight_df = spark.read \\\n",
    "    .format('csv') \\\n",
    "    .option('header', True) \\\n",
    "    .schema(flight_schema) \\\n",
    "    .load(path)"
   ]
  },
  {
   "cell_type": "code",
   "execution_count": 30,
   "metadata": {
    "application/vnd.databricks.v1+cell": {
     "cellMetadata": {
      "byteLimit": 2048000,
      "rowLimit": 10000
     },
     "inputWidgets": {},
     "nuid": "36b71f40-eb52-4e65-9f3d-0872f90f3c53",
     "showTitle": false,
     "title": ""
    }
   },
   "outputs": [
    {
     "name": "stdout",
     "output_type": "stream",
     "text": [
      "root\n",
      " |-- YEAR: integer (nullable = true)\n",
      " |-- MONTH: integer (nullable = true)\n",
      " |-- DAY: integer (nullable = true)\n",
      " |-- DAY_OF_WEEK: integer (nullable = true)\n",
      " |-- AIRLINE: string (nullable = true)\n",
      " |-- FLIGHT_NUMBER: integer (nullable = true)\n",
      " |-- TAIL_NUMBER: string (nullable = true)\n",
      " |-- ORIGIN_AIRPORT: string (nullable = true)\n",
      " |-- DESTINATION_AIRPORT: string (nullable = true)\n",
      " |-- SCHEDULED_DEPARTURE: integer (nullable = true)\n",
      " |-- DEPARTURE_TIME: integer (nullable = true)\n",
      " |-- DEPARTURE_DELAY: integer (nullable = true)\n",
      " |-- TAXI_OUT: integer (nullable = true)\n",
      " |-- WHEELS_OFF: integer (nullable = true)\n",
      " |-- SCHEDULED_TIME: integer (nullable = true)\n",
      " |-- ELAPSED_TIME: integer (nullable = true)\n",
      " |-- AIR_TIME: integer (nullable = true)\n",
      " |-- DISTANCE: integer (nullable = true)\n",
      " |-- WHEELS_ON: integer (nullable = true)\n",
      " |-- TAXI_IN: integer (nullable = true)\n",
      " |-- SCHEDULED_ARRIVAL: integer (nullable = true)\n",
      " |-- ARRIVAL_TIME: integer (nullable = true)\n",
      " |-- ARRIVAL_DELAY: integer (nullable = true)\n",
      " |-- DIVERTED: integer (nullable = true)\n",
      " |-- CANCELLED: integer (nullable = true)\n",
      " |-- CANCELLATION_REASON: string (nullable = true)\n",
      " |-- AIR_SYSTEM_DELAY: integer (nullable = true)\n",
      " |-- SECURITY_DELAY: integer (nullable = true)\n",
      " |-- AIRLINE_DELAY: integer (nullable = true)\n",
      " |-- LATE_AIRCRAFT_DELAY: integer (nullable = true)\n",
      " |-- WEATHER_DELAY: integer (nullable = true)\n",
      "\n"
     ]
    }
   ],
   "source": [
    "flight_df.printSchema()"
   ]
  },
  {
   "cell_type": "code",
   "execution_count": 32,
   "metadata": {
    "application/vnd.databricks.v1+cell": {
     "cellMetadata": {
      "byteLimit": 2048000,
      "rowLimit": 10000
     },
     "inputWidgets": {},
     "nuid": "930a0d42-4b94-429e-8915-91d010aadfef",
     "showTitle": false,
     "title": ""
    }
   },
   "outputs": [
    {
     "data": {
      "text/plain": [
       "435991"
      ]
     },
     "execution_count": 32,
     "metadata": {},
     "output_type": "execute_result"
    }
   ],
   "source": [
    "flight_df.count()"
   ]
  },
  {
   "cell_type": "code",
   "execution_count": 33,
   "metadata": {
    "application/vnd.databricks.v1+cell": {
     "cellMetadata": {
      "byteLimit": 2048000,
      "rowLimit": 10000
     },
     "inputWidgets": {},
     "nuid": "7329c7fb-2ba4-4a05-b1d0-c24b0c3245c1",
     "showTitle": false,
     "title": ""
    }
   },
   "outputs": [
    {
     "name": "stdout",
     "output_type": "stream",
     "text": [
      "+----+-----+---+-----------+-------+-------------+-----------+--------------+-------------------+-------------------+--------------+---------------+--------+----------+--------------+------------+--------+--------+---------+-------+-----------------+------------+-------------+--------+---------+-------------------+----------------+--------------+-------------+-------------------+-------------+\n",
      "|YEAR|MONTH|DAY|DAY_OF_WEEK|AIRLINE|FLIGHT_NUMBER|TAIL_NUMBER|ORIGIN_AIRPORT|DESTINATION_AIRPORT|SCHEDULED_DEPARTURE|DEPARTURE_TIME|DEPARTURE_DELAY|TAXI_OUT|WHEELS_OFF|SCHEDULED_TIME|ELAPSED_TIME|AIR_TIME|DISTANCE|WHEELS_ON|TAXI_IN|SCHEDULED_ARRIVAL|ARRIVAL_TIME|ARRIVAL_DELAY|DIVERTED|CANCELLED|CANCELLATION_REASON|AIR_SYSTEM_DELAY|SECURITY_DELAY|AIRLINE_DELAY|LATE_AIRCRAFT_DELAY|WEATHER_DELAY|\n",
      "+----+-----+---+-----------+-------+-------------+-----------+--------------+-------------------+-------------------+--------------+---------------+--------+----------+--------------+------------+--------+--------+---------+-------+-----------------+------------+-------------+--------+---------+-------------------+----------------+--------------+-------------+-------------------+-------------+\n",
      "|2015|    6| 26|          5|     EV|         4951|     N707EV|           BHM|                LGA|                630|           629|             -1|      13|       642|           155|         141|     113|     866|      935|     15|             1005|         950|          -15|       0|        0|               NULL|            NULL|          NULL|         NULL|               NULL|         NULL|\n",
      "|2015|   12| 19|          6|     WN|         3589|     N764SW|           MKE|                DCA|               1630|          1627|             -3|      13|      1640|           115|          96|      79|     634|     1859|      4|             1925|        1903|          -22|       0|        0|               NULL|            NULL|          NULL|         NULL|               NULL|         NULL|\n",
      "|2015|    1| 10|          6|     WN|         3370|     N720WN|           SNA|                OAK|               1055|          1054|             -1|      11|      1105|            85|          80|      63|     371|     1208|      6|             1220|        1214|           -6|       0|        0|               NULL|            NULL|          NULL|         NULL|               NULL|         NULL|\n",
      "|2015|   11|  1|          7|     WN|         2081|     N461WN|           PDX|                LAS|               1345|          1346|              1|       9|      1355|           120|         115|      97|     763|     1532|      9|             1545|        1541|           -4|       0|        0|               NULL|            NULL|          NULL|         NULL|               NULL|         NULL|\n",
      "|2015|    6| 11|          4|     WN|          836|     N8628A|           BNA|                BOS|               1635|          1627|             -8|      12|      1639|           150|         149|     127|     942|     1946|     10|             2005|        1956|           -9|       0|        0|               NULL|            NULL|          NULL|         NULL|               NULL|         NULL|\n",
      "+----+-----+---+-----------+-------+-------------+-----------+--------------+-------------------+-------------------+--------------+---------------+--------+----------+--------------+------------+--------+--------+---------+-------+-----------------+------------+-------------+--------+---------+-------------------+----------------+--------------+-------------+-------------------+-------------+\n",
      "only showing top 5 rows\n",
      "\n"
     ]
    }
   ],
   "source": [
    "flight_df.show(5)"
   ]
  },
  {
   "cell_type": "markdown",
   "metadata": {},
   "source": [
    "### CLeaning data"
   ]
  },
  {
   "cell_type": "code",
   "execution_count": 34,
   "metadata": {
    "application/vnd.databricks.v1+cell": {
     "cellMetadata": {
      "byteLimit": 2048000,
      "rowLimit": 10000
     },
     "inputWidgets": {},
     "nuid": "b43d4163-a52e-4a31-a785-3edcc1366fa6",
     "showTitle": false,
     "title": ""
    }
   },
   "outputs": [],
   "source": [
    "# list of columns deemed to be not useful for our models\n",
    "removed_columns = ['CANCELLATION_REASON','AIR_SYSTEM_DELAY','SECURITY_DELAY',\n",
    "                     'AIRLINE_DELAY','LATE_AIRCRAFT_DELAY','WEATHER_DELAY']"
   ]
  },
  {
   "cell_type": "code",
   "execution_count": 35,
   "metadata": {
    "application/vnd.databricks.v1+cell": {
     "cellMetadata": {
      "byteLimit": 2048000,
      "rowLimit": 10000
     },
     "inputWidgets": {},
     "nuid": "a0efa9d2-afe3-4008-8fa2-32492e79d25d",
     "showTitle": false,
     "title": ""
    }
   },
   "outputs": [],
   "source": [
    "# create a function that removes unwated columns\n",
    "def eliminate_columns(removed_columns, df):\n",
    "    \n",
    "    # drop the unwated columns\n",
    "    df = df.drop(*removed_columns)\n",
    "    \n",
    "    # return the modified dataframe\n",
    "    return df"
   ]
  },
  {
   "cell_type": "code",
   "execution_count": 36,
   "metadata": {
    "application/vnd.databricks.v1+cell": {
     "cellMetadata": {
      "byteLimit": 2048000,
      "rowLimit": 10000
     },
     "inputWidgets": {},
     "nuid": "3c42e350-a830-44d7-832e-86091885ffe8",
     "showTitle": false,
     "title": ""
    }
   },
   "outputs": [],
   "source": [
    "# apply the function that removes unwated columns\n",
    "flightsRawDf = eliminate_columns(removed_columns, flight_df)"
   ]
  },
  {
   "cell_type": "code",
   "execution_count": 37,
   "metadata": {
    "application/vnd.databricks.v1+cell": {
     "cellMetadata": {
      "byteLimit": 2048000,
      "rowLimit": 10000
     },
     "inputWidgets": {},
     "nuid": "ff83ecae-e895-42bc-bd8a-da1e3fd782be",
     "showTitle": false,
     "title": ""
    }
   },
   "outputs": [],
   "source": [
    "# drop rows with na values\n",
    "flightsDf = flightsRawDf.na.drop(\"any\")\n",
    "\n",
    "# drop rows with null values\n",
    "flightsDf = flightsDf.dropna(\"any\")"
   ]
  },
  {
   "cell_type": "markdown",
   "metadata": {},
   "source": [
    "### Training"
   ]
  },
  {
   "cell_type": "code",
   "execution_count": 38,
   "metadata": {
    "application/vnd.databricks.v1+cell": {
     "cellMetadata": {
      "byteLimit": 2048000,
      "rowLimit": 10000
     },
     "inputWidgets": {},
     "nuid": "2512c9cd-ab4c-4df6-9729-c8b9f04556e7",
     "showTitle": false,
     "title": ""
    }
   },
   "outputs": [],
   "source": [
    "# label each flight as either not delayed or delayed\n",
    "def return_label(data):\n",
    "    \n",
    "    val_return = None\n",
    "    \n",
    "    # condition for a flight being late\n",
    "    if data > 5:\n",
    "        \n",
    "        val_return = 1\n",
    "    \n",
    "    # condition for a flight being early\n",
    "    elif data <= 5:\n",
    "        \n",
    "        val_return = 0\n",
    "    \n",
    "    # return binary label \n",
    "    return val_return"
   ]
  },
  {
   "cell_type": "code",
   "execution_count": 39,
   "metadata": {
    "application/vnd.databricks.v1+cell": {
     "cellMetadata": {
      "byteLimit": 2048000,
      "rowLimit": 10000
     },
     "inputWidgets": {},
     "nuid": "3f71af7f-1d03-4525-b5dd-3b6f43f0ed85",
     "showTitle": false,
     "title": ""
    }
   },
   "outputs": [],
   "source": [
    "# register the function as UDF\n",
    "return_label_udf = udf(return_label,IntegerType())"
   ]
  },
  {
   "cell_type": "code",
   "execution_count": 40,
   "metadata": {
    "application/vnd.databricks.v1+cell": {
     "cellMetadata": {
      "byteLimit": 2048000,
      "rowLimit": 10000
     },
     "inputWidgets": {},
     "nuid": "18e5ebf1-0992-4e94-b53f-3d0792115378",
     "showTitle": false,
     "title": ""
    }
   },
   "outputs": [],
   "source": [
    "# apply the function to the data frame and create two new columns for the binary labels\n",
    "flightsDf = (flightsDf\n",
    ".withColumn('binaryDeptDelay', return_label_udf('DEPARTURE_DELAY'))\n",
    ".withColumn('binaryArrDelay', return_label_udf('ARRIVAL_DELAY')))"
   ]
  },
  {
   "cell_type": "code",
   "execution_count": 41,
   "metadata": {
    "application/vnd.databricks.v1+cell": {
     "cellMetadata": {
      "byteLimit": 2048000,
      "rowLimit": 10000
     },
     "inputWidgets": {},
     "nuid": "e474d9cd-b245-4766-ad6c-9c4dfd44fc5b",
     "showTitle": false,
     "title": ""
    }
   },
   "outputs": [],
   "source": [
    "# list of columns used for the ML models\n",
    "nums_cols = ['MONTH',\n",
    "            'DAY',\n",
    "            'DAY_OF_WEEK',\n",
    "            'FLIGHT_NUMBER',\n",
    "            'SCHEDULED_DEPARTURE',\n",
    "            'DEPARTURE_TIME',\n",
    "            'DEPARTURE_DELAY',\n",
    "            'TAXI_OUT',\n",
    "            'WHEELS_OFF',\n",
    "            'SCHEDULED_TIME',\n",
    "            'ELAPSED_TIME',\n",
    "            'AIR_TIME',\n",
    "            'DISTANCE',\n",
    "            'WHEELS_ON',\n",
    "            'TAXI_IN',\n",
    "            'SCHEDULED_ARRIVAL',\n",
    "            'ARRIVAL_TIME',\n",
    "            'ARRIVAL_DELAY',\n",
    "            'binaryDeptDelay',\n",
    "            'binaryArrDelay']"
   ]
  },
  {
   "cell_type": "code",
   "execution_count": 42,
   "metadata": {
    "application/vnd.databricks.v1+cell": {
     "cellMetadata": {
      "byteLimit": 2048000,
      "rowLimit": 10000
     },
     "inputWidgets": {},
     "nuid": "11cfc3dc-6f69-43b4-957c-9271e04160e8",
     "showTitle": false,
     "title": ""
    }
   },
   "outputs": [],
   "source": [
    "my_data = flightsDf.select(*nums_cols)"
   ]
  },
  {
   "cell_type": "code",
   "execution_count": 43,
   "metadata": {
    "application/vnd.databricks.v1+cell": {
     "cellMetadata": {
      "byteLimit": 2048000,
      "rowLimit": 10000
     },
     "inputWidgets": {},
     "nuid": "8eb7dec1-1193-40de-9b6e-393e40c3a1d5",
     "showTitle": false,
     "title": ""
    }
   },
   "outputs": [],
   "source": [
    "# columns that are in string format and need to be vectorized\n",
    "str_cols = ['AIRLINE', 'TAIL_NUMBER', 'ORIGIN_AIRPORT', 'DESTINATION_AIRPORT']"
   ]
  },
  {
   "cell_type": "code",
   "execution_count": 44,
   "metadata": {
    "application/vnd.databricks.v1+cell": {
     "cellMetadata": {
      "byteLimit": 2048000,
      "rowLimit": 10000
     },
     "inputWidgets": {},
     "nuid": "9afc380f-910d-49f6-9772-b02e9992666f",
     "showTitle": false,
     "title": ""
    }
   },
   "outputs": [],
   "source": [
    "# get new column names for the indexing\n",
    "str_cols_names_index = [x + '_index' for x in str_cols]"
   ]
  },
  {
   "cell_type": "code",
   "execution_count": 45,
   "metadata": {
    "application/vnd.databricks.v1+cell": {
     "cellMetadata": {
      "byteLimit": 2048000,
      "rowLimit": 10000
     },
     "inputWidgets": {},
     "nuid": "3a819048-b9c8-440c-a176-d2763f238c64",
     "showTitle": false,
     "title": ""
    }
   },
   "outputs": [],
   "source": [
    "# configure index function\n",
    "df_indexer = StringIndexer(inputCols = str_cols, outputCols = str_cols_names_index)"
   ]
  },
  {
   "cell_type": "code",
   "execution_count": 46,
   "metadata": {
    "application/vnd.databricks.v1+cell": {
     "cellMetadata": {
      "byteLimit": 2048000,
      "rowLimit": 10000
     },
     "inputWidgets": {},
     "nuid": "39bcbc54-2776-4f0d-bff3-8e9967be7ba0",
     "showTitle": false,
     "title": ""
    }
   },
   "outputs": [],
   "source": [
    "# get new column names for the vectors\n",
    "output_cols_ohe = [x + '_vec' for x in str_cols]"
   ]
  },
  {
   "cell_type": "code",
   "execution_count": 47,
   "metadata": {
    "application/vnd.databricks.v1+cell": {
     "cellMetadata": {
      "byteLimit": 2048000,
      "rowLimit": 10000
     },
     "inputWidgets": {},
     "nuid": "73da3d3d-ebeb-4856-b45c-ca365c09af9f",
     "showTitle": false,
     "title": ""
    }
   },
   "outputs": [],
   "source": [
    "# set inputs and outputs\n",
    "df_encoder = OneHotEncoder(inputCols = str_cols_names_index, outputCols = output_cols_ohe)"
   ]
  },
  {
   "cell_type": "code",
   "execution_count": 48,
   "metadata": {
    "application/vnd.databricks.v1+cell": {
     "cellMetadata": {
      "byteLimit": 2048000,
      "rowLimit": 10000
     },
     "inputWidgets": {},
     "nuid": "23d6d360-e617-4d86-aca2-168299a2eb66",
     "showTitle": false,
     "title": ""
    }
   },
   "outputs": [],
   "source": [
    "# vector columns\n",
    "vec_cols = ['AIRLINE_vec', 'TAIL_NUMBER_vec', 'ORIGIN_AIRPORT_vec','DESTINATION_AIRPORT_vec']"
   ]
  },
  {
   "cell_type": "code",
   "execution_count": 49,
   "metadata": {
    "application/vnd.databricks.v1+cell": {
     "cellMetadata": {
      "byteLimit": 2048000,
      "rowLimit": 10000
     },
     "inputWidgets": {},
     "nuid": "682b0264-3616-4a74-80a7-cefae356861e",
     "showTitle": false,
     "title": ""
    }
   },
   "outputs": [],
   "source": [
    "# create a total of four models, 2 for each target and 2 for each type of model\n",
    "\n",
    "# decision tree models\n",
    "dt_bin_dept = DecisionTreeClassifier(featuresCol = 'features', labelCol = 'binaryDeptDelay', maxDepth = 3)\n",
    "dt_bin_arr = DecisionTreeClassifier(featuresCol = 'features', labelCol = 'binaryArrDelay', maxDepth = 3)\n",
    "\n",
    "# gradient boost tree models\n",
    "gbt_bin_dept = GBTClassifier(featuresCol=\"features\", labelCol=\"binaryDeptDelay\", maxIter = 3)\n",
    "gbt_bin_arr = GBTClassifier(featuresCol=\"features\", labelCol=\"binaryArrDelay\", maxIter = 3)"
   ]
  },
  {
   "cell_type": "code",
   "execution_count": 50,
   "metadata": {
    "application/vnd.databricks.v1+cell": {
     "cellMetadata": {
      "byteLimit": 2048000,
      "rowLimit": 10000
     },
     "inputWidgets": {},
     "nuid": "9534f726-ffa4-4131-b048-818c3e6992d7",
     "showTitle": false,
     "title": ""
    }
   },
   "outputs": [],
   "source": [
    "# combine all the feature columns used for training and testing the models\n",
    "input_cols = nums_cols + vec_cols\n",
    "\n",
    "# remove the target columns\n",
    "input_cols.remove('binaryDeptDelay')\n",
    "input_cols.remove('binaryArrDelay')\n",
    "input_cols.remove('DEPARTURE_DELAY')\n",
    "input_cols.remove('ARRIVAL_DELAY')"
   ]
  },
  {
   "cell_type": "code",
   "execution_count": 51,
   "metadata": {
    "application/vnd.databricks.v1+cell": {
     "cellMetadata": {
      "byteLimit": 2048000,
      "rowLimit": 10000
     },
     "inputWidgets": {},
     "nuid": "8c735d0c-7c7c-4705-a6dc-9de378a24efd",
     "showTitle": false,
     "title": ""
    }
   },
   "outputs": [],
   "source": [
    "# create a vector assembler, used for training and testing the models \n",
    "assembler = VectorAssembler(inputCols = input_cols, outputCol = \"features\")"
   ]
  },
  {
   "cell_type": "code",
   "execution_count": 52,
   "metadata": {
    "application/vnd.databricks.v1+cell": {
     "cellMetadata": {
      "byteLimit": 2048000,
      "rowLimit": 10000
     },
     "inputWidgets": {},
     "nuid": "50153c0c-384c-422b-926d-42c08c156798",
     "showTitle": false,
     "title": ""
    }
   },
   "outputs": [],
   "source": [
    "# create a pipline to perform df_indexer, df_encoder,df_encoder_2, assembler all in one go\n",
    "pipeline = Pipeline(stages = [df_indexer, df_encoder, assembler])\n",
    "\n",
    "# fit and transform the bank dataframe\n",
    "model = pipeline.fit(flightsDf).transform(flightsDf)"
   ]
  },
  {
   "cell_type": "code",
   "execution_count": 53,
   "metadata": {
    "application/vnd.databricks.v1+cell": {
     "cellMetadata": {
      "byteLimit": 2048000,
      "rowLimit": 10000
     },
     "inputWidgets": {},
     "nuid": "08f776aa-0d9c-45c0-be47-8665210f5ccf",
     "showTitle": false,
     "title": ""
    }
   },
   "outputs": [],
   "source": [
    "# splitting the data into testing and training\n",
    "# 80 % training and 20 % testing\n",
    "train, test = model.randomSplit([0.8, 0.2], seed=77)"
   ]
  },
  {
   "cell_type": "code",
   "execution_count": 54,
   "metadata": {
    "application/vnd.databricks.v1+cell": {
     "cellMetadata": {
      "byteLimit": 2048000,
      "rowLimit": 10000
     },
     "inputWidgets": {},
     "nuid": "10ae4bac-4d86-4880-80aa-bd6724f59731",
     "showTitle": false,
     "title": ""
    }
   },
   "outputs": [],
   "source": [
    "# model 1 decision tree and arrival delay\n",
    "dt_bin_arr_model = dt_bin_arr.fit(train)"
   ]
  },
  {
   "cell_type": "code",
   "execution_count": 55,
   "metadata": {},
   "outputs": [],
   "source": [
    "dt_bin_arr_model.save('models/decisiontree_arrival')"
   ]
  },
  {
   "cell_type": "code",
   "execution_count": 56,
   "metadata": {
    "application/vnd.databricks.v1+cell": {
     "cellMetadata": {},
     "inputWidgets": {},
     "nuid": "f0d5bdac-53eb-4855-b9b6-b1dfa0737a24",
     "showTitle": false,
     "title": ""
    }
   },
   "outputs": [],
   "source": [
    "# model 2 decision tree and departure delay\n",
    "dt_bin_dept_model = dt_bin_dept.fit(train)"
   ]
  },
  {
   "cell_type": "code",
   "execution_count": 57,
   "metadata": {},
   "outputs": [],
   "source": [
    "dt_bin_arr_model.save('models/decisiontree_departure')"
   ]
  },
  {
   "cell_type": "code",
   "execution_count": 58,
   "metadata": {
    "application/vnd.databricks.v1+cell": {
     "cellMetadata": {},
     "inputWidgets": {},
     "nuid": "d314cdf1-4469-40c2-9567-789c56630de5",
     "showTitle": false,
     "title": ""
    }
   },
   "outputs": [],
   "source": [
    "# model 3 gradient boost tree and arrival delay\n",
    "gbt_bin_arr_model = gbt_bin_arr.fit(train)"
   ]
  },
  {
   "cell_type": "code",
   "execution_count": 60,
   "metadata": {},
   "outputs": [],
   "source": [
    "dt_bin_arr_model.save('models/gradientboost_arrival')"
   ]
  },
  {
   "cell_type": "code",
   "execution_count": 59,
   "metadata": {
    "application/vnd.databricks.v1+cell": {
     "cellMetadata": {},
     "inputWidgets": {},
     "nuid": "96856a64-b6fa-4b3f-8c87-cea2c2f44408",
     "showTitle": false,
     "title": ""
    }
   },
   "outputs": [],
   "source": [
    "# model 4 gradient boost tree and departure delay\n",
    "gbt_bin_dept_model = gbt_bin_dept.fit(train)"
   ]
  },
  {
   "cell_type": "code",
   "execution_count": 62,
   "metadata": {},
   "outputs": [],
   "source": [
    "dt_bin_arr_model.save('models/gradientboost_departure')"
   ]
  },
  {
   "cell_type": "markdown",
   "metadata": {},
   "source": [
    "### Evaluation"
   ]
  },
  {
   "cell_type": "code",
   "execution_count": 63,
   "metadata": {
    "application/vnd.databricks.v1+cell": {
     "cellMetadata": {
      "byteLimit": 2048000,
      "rowLimit": 10000
     },
     "inputWidgets": {},
     "nuid": "0124eab6-e0db-492e-8e0a-5416e9ed8f1f",
     "showTitle": false,
     "title": ""
    }
   },
   "outputs": [],
   "source": [
    "# make predictions with all four models for all four labels \n",
    "dt_arr_pred = dt_bin_arr_model.transform(test)\n",
    "dt_dept_pred = dt_bin_dept_model.transform(test)\n",
    "gbt_arr_pred = gbt_bin_arr_model.transform(test)\n",
    "gbt_dept_pred = gbt_bin_dept_model.transform(test)"
   ]
  },
  {
   "cell_type": "code",
   "execution_count": 70,
   "metadata": {
    "application/vnd.databricks.v1+cell": {
     "cellMetadata": {
      "byteLimit": 2048000,
      "rowLimit": 10000
     },
     "inputWidgets": {},
     "nuid": "7ade8778-5223-46a2-be8c-60f025a8b09f",
     "showTitle": false,
     "title": ""
    }
   },
   "outputs": [
    {
     "name": "stdout",
     "output_type": "stream",
     "text": [
      "+---------+----------+--------------------+\n",
      "|trueLabel|prediction|         probability|\n",
      "+---------+----------+--------------------+\n",
      "|        0|       0.0|[0.83779369814689...|\n",
      "|        0|       0.0|[0.83779369814689...|\n",
      "|        1|       0.0|[0.70371813680542...|\n",
      "|        1|       0.0|[0.83779369814689...|\n",
      "|        1|       1.0|[0.40971299495083...|\n",
      "|        0|       0.0|[0.83779369814689...|\n",
      "|        0|       0.0|[0.83779369814689...|\n",
      "|        0|       0.0|[0.83779369814689...|\n",
      "|        0|       0.0|[0.70371813680542...|\n",
      "|        0|       0.0|[0.70371813680542...|\n",
      "+---------+----------+--------------------+\n",
      "only showing top 10 rows\n",
      "\n"
     ]
    }
   ],
   "source": [
    "dt_arr_pred.select(F.col(\"binaryArrDelay\").alias(\"trueLabel\"), \"prediction\", \"probability\").show(10)"
   ]
  },
  {
   "cell_type": "code",
   "execution_count": 71,
   "metadata": {},
   "outputs": [
    {
     "name": "stdout",
     "output_type": "stream",
     "text": [
      "+---------+----------+--------------------+\n",
      "|trueLabel|prediction|         probability|\n",
      "+---------+----------+--------------------+\n",
      "|        0|       0.0|[0.83592163381301...|\n",
      "|        0|       0.0|[0.83592163381301...|\n",
      "|        1|       0.0|[0.67202622367909...|\n",
      "|        0|       0.0|[0.83592163381301...|\n",
      "|        0|       0.0|[0.67202622367909...|\n",
      "|        0|       0.0|[0.83592163381301...|\n",
      "|        0|       0.0|[0.83592163381301...|\n",
      "|        0|       0.0|[0.83592163381301...|\n",
      "|        0|       0.0|[0.67202622367909...|\n",
      "|        0|       0.0|[0.67202622367909...|\n",
      "+---------+----------+--------------------+\n",
      "only showing top 10 rows\n",
      "\n"
     ]
    }
   ],
   "source": [
    "dt_dept_pred.select(F.col(\"binaryDeptDelay\").alias(\"trueLabel\"), \"prediction\", \"probability\").show(10)"
   ]
  },
  {
   "cell_type": "code",
   "execution_count": 72,
   "metadata": {},
   "outputs": [
    {
     "name": "stdout",
     "output_type": "stream",
     "text": [
      "+---------+----------+--------------------+\n",
      "|trueLabel|prediction|         probability|\n",
      "+---------+----------+--------------------+\n",
      "|        0|       0.0|[0.72582457909041...|\n",
      "|        0|       0.0|[0.75925551885328...|\n",
      "|        1|       0.0|[0.60415692399430...|\n",
      "|        1|       0.0|[0.82195780690077...|\n",
      "|        1|       1.0|[0.31866326616415...|\n",
      "|        0|       0.0|[0.83405848844321...|\n",
      "|        0|       0.0|[0.83517412976125...|\n",
      "|        0|       0.0|[0.83046588977356...|\n",
      "|        0|       0.0|[0.71551082877338...|\n",
      "|        0|       0.0|[0.63456306500374...|\n",
      "+---------+----------+--------------------+\n",
      "only showing top 10 rows\n",
      "\n"
     ]
    }
   ],
   "source": [
    "gbt_arr_pred.select(F.col(\"binaryArrDelay\").alias(\"trueLabel\"), \"prediction\", \"probability\").show(10)"
   ]
  },
  {
   "cell_type": "code",
   "execution_count": 73,
   "metadata": {},
   "outputs": [
    {
     "name": "stdout",
     "output_type": "stream",
     "text": [
      "+---------+----------+--------------------+\n",
      "|trueLabel|prediction|         probability|\n",
      "+---------+----------+--------------------+\n",
      "|        0|       0.0|[0.76948765764606...|\n",
      "|        0|       0.0|[0.85119280675811...|\n",
      "|        1|       0.0|[0.66155148258362...|\n",
      "|        0|       0.0|[0.66155148258362...|\n",
      "|        0|       0.0|[0.69374319039860...|\n",
      "|        0|       0.0|[0.88339584263577...|\n",
      "|        0|       0.0|[0.85119280675811...|\n",
      "|        0|       0.0|[0.77348262313087...|\n",
      "|        0|       0.0|[0.73102190894230...|\n",
      "|        0|       0.0|[0.66155148258362...|\n",
      "+---------+----------+--------------------+\n",
      "only showing top 10 rows\n",
      "\n"
     ]
    }
   ],
   "source": [
    "gbt_dept_pred.select(F.col(\"binaryDeptDelay\").alias(\"trueLabel\"), \"prediction\", \"probability\").show(10)"
   ]
  },
  {
   "cell_type": "code",
   "execution_count": 78,
   "metadata": {},
   "outputs": [
    {
     "name": "stdout",
     "output_type": "stream",
     "text": [
      "Test Accuracy - Decision Tree - Arrival Delay: 0.76\n",
      "Test Accuracy - Decision Tree - Departure Delay: 0.75\n",
      "Test Accuracy - Gradient Boost Tree - Arrival Delay: 0.78\n",
      "Test Accuracy - Gradient Boost Tree - Departure Delay: 0.78\n"
     ]
    }
   ],
   "source": [
    "# accuracy\n",
    "evaluator1 = MulticlassClassificationEvaluator(labelCol=\"binaryArrDelay\", predictionCol=\"prediction\", metricName=\"accuracy\")\n",
    "accuracy1 = evaluator1.evaluate(dt_arr_pred)\n",
    "evaluator2 = MulticlassClassificationEvaluator(labelCol=\"binaryDeptDelay\", predictionCol=\"prediction\", metricName=\"accuracy\")\n",
    "accuracy2 = evaluator2.evaluate(dt_dept_pred)\n",
    "evaluator3 = MulticlassClassificationEvaluator(labelCol=\"binaryArrDelay\", predictionCol=\"prediction\", metricName=\"accuracy\")\n",
    "accuracy3 = evaluator3.evaluate(gbt_arr_pred)\n",
    "evaluator4 = MulticlassClassificationEvaluator(labelCol=\"binaryDeptDelay\", predictionCol=\"prediction\", metricName=\"accuracy\")\n",
    "accuracy4 = evaluator4.evaluate(gbt_dept_pred)\n",
    "\n",
    "print(f\"Test Accuracy - Decision Tree - Arrival Delay: {accuracy1:.2f}\")\n",
    "print(f\"Test Accuracy - Decision Tree - Departure Delay: {accuracy2:.2f}\")\n",
    "print(f\"Test Accuracy - Gradient Boost Tree - Arrival Delay: {accuracy3:.2f}\")\n",
    "print(f\"Test Accuracy - Gradient Boost Tree - Departure Delay: {accuracy4:.2f}\")"
   ]
  },
  {
   "cell_type": "code",
   "execution_count": 81,
   "metadata": {},
   "outputs": [
    {
     "name": "stdout",
     "output_type": "stream",
     "text": [
      "Confusion Matrix 1:\n",
      "[[60108  1970]\n",
      " [18553  5204]]\n",
      "Confusion Matrix 2:\n",
      "[[61724   961]\n",
      " [20796  2354]]\n",
      "Confusion Matrix 3:\n",
      "[[60293  1785]\n",
      " [16954  6803]]\n",
      "Confusion Matrix 4:\n",
      "[[61743   942]\n",
      " [17976  5174]]\n"
     ]
    }
   ],
   "source": [
    "# confusion matrix\n",
    "cm1 = confusion_matrix(dt_arr_pred.select(\"binaryArrDelay\").collect(), dt_arr_pred.select(\"prediction\").collect(), )\n",
    "print(\"Confusion Matrix 1:\")\n",
    "print(cm1)\n",
    "\n",
    "cm2 = confusion_matrix(dt_dept_pred.select(\"binaryDeptDelay\").collect(), dt_dept_pred.select(\"prediction\").collect(), )\n",
    "print(\"Confusion Matrix 2:\")\n",
    "print(cm2)\n",
    "\n",
    "cm3 = confusion_matrix(gbt_arr_pred.select(\"binaryArrDelay\").collect(), gbt_arr_pred.select(\"prediction\").collect(), )\n",
    "print(\"Confusion Matrix 3:\")\n",
    "print(cm3)\n",
    "\n",
    "cm4 = confusion_matrix(gbt_dept_pred.select(\"binaryDeptDelay\").collect(), gbt_dept_pred.select(\"prediction\").collect(), )\n",
    "print(\"Confusion Matrix 4:\")\n",
    "print(cm4)"
   ]
  }
 ],
 "metadata": {
  "application/vnd.databricks.v1+notebook": {
   "dashboards": [],
   "language": "python",
   "notebookMetadata": {
    "pythonIndentUnit": 4
   },
   "notebookName": "flight delay prediction",
   "widgets": {}
  },
  "kernelspec": {
   "display_name": "Python 3",
   "language": "python",
   "name": "python3"
  },
  "language_info": {
   "codemirror_mode": {
    "name": "ipython",
    "version": 3
   },
   "file_extension": ".py",
   "mimetype": "text/x-python",
   "name": "python",
   "nbconvert_exporter": "python",
   "pygments_lexer": "ipython3",
   "version": "3.10.7"
  }
 },
 "nbformat": 4,
 "nbformat_minor": 0
}
